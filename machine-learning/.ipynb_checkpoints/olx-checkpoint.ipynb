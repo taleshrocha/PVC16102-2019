{
 "cells": [
  {
   "cell_type": "markdown",
   "id": "4b2ac515",
   "metadata": {},
   "source": [
    "# Import the data"
   ]
  },
  {
   "cell_type": "code",
   "execution_count": 81,
   "id": "f46f3b96",
   "metadata": {},
   "outputs": [],
   "source": [
    "import pandas as pd\n",
    "import numpy as np"
   ]
  },
  {
   "cell_type": "code",
   "execution_count": 82,
   "id": "30c7bd8b",
   "metadata": {},
   "outputs": [],
   "source": [
    "houses = pd.read_csv(\"olx-data.csv\")"
   ]
  },
  {
   "cell_type": "markdown",
   "id": "7849c995",
   "metadata": {},
   "source": [
    "# Treat the data"
   ]
  },
  {
   "cell_type": "code",
   "execution_count": 83,
   "id": "d6bfd862",
   "metadata": {},
   "outputs": [],
   "source": [
    "houses.replace(\"--\", np.nan, inplace=True)\n",
    "houses.drop(columns=[\"link\", \"hora\", \"dia\", \"iptu\", \"condopreco\", \"corretor\", \"cep\"], inplace=True)\n",
    "houses.drop(houses[houses.preco < 50000].index, inplace=True)\n",
    "houses.drop(houses[houses.area > 100].index, inplace=True)"
   ]
  },
  {
   "cell_type": "code",
   "execution_count": 84,
   "id": "71023268",
   "metadata": {},
   "outputs": [],
   "source": [
    "def treat_values(column):\n",
    "    # Get the median value and replace all the NaN's with it (it's the median, not the mean - we can use with strings!)\n",
    "    houses[column].fillna(houses[column].median(), inplace=True)\n",
    "    houses[column] = houses[column].astype(\"int64\")\n",
    "\n",
    "houses[\"banheiros\"].replace(\"5 ou mais\", \"5\", inplace=True)\n",
    "houses[\"vagas\"].replace(\"5 ou mais\", \"5\", inplace=True)\n",
    "treat_values(\"banheiros\")\n",
    "treat_values(\"vagas\")\n",
    "treat_values(\"quartos\")"
   ]
  },
  {
   "cell_type": "code",
   "execution_count": 85,
   "id": "ddc36a28",
   "metadata": {},
   "outputs": [
    {
     "name": "stdout",
     "output_type": "stream",
     "text": [
      "<class 'pandas.core.frame.DataFrame'>\n",
      "Int64Index: 944 entries, 0 to 958\n",
      "Data columns (total 12 columns):\n",
      " #   Column        Non-Null Count  Dtype \n",
      "---  ------        --------------  ----- \n",
      " 0   id            944 non-null    int64 \n",
      " 1   categoria     944 non-null    object\n",
      " 2   municipio     944 non-null    object\n",
      " 3   ano           944 non-null    int64 \n",
      " 4   mes           944 non-null    int64 \n",
      " 5   preco         944 non-null    int64 \n",
      " 6   area          944 non-null    int64 \n",
      " 7   quartos       944 non-null    int64 \n",
      " 8   banheiros     944 non-null    int64 \n",
      " 9   vagas         944 non-null    int64 \n",
      " 10  condofechado  944 non-null    object\n",
      " 11  politica      944 non-null    object\n",
      "dtypes: int64(8), object(4)\n",
      "memory usage: 95.9+ KB\n"
     ]
    }
   ],
   "source": [
    "houses.info()"
   ]
  },
  {
   "cell_type": "code",
   "execution_count": 86,
   "id": "e51b3bae",
   "metadata": {},
   "outputs": [
    {
     "data": {
      "text/html": [
       "<div>\n",
       "<style scoped>\n",
       "    .dataframe tbody tr th:only-of-type {\n",
       "        vertical-align: middle;\n",
       "    }\n",
       "\n",
       "    .dataframe tbody tr th {\n",
       "        vertical-align: top;\n",
       "    }\n",
       "\n",
       "    .dataframe thead th {\n",
       "        text-align: right;\n",
       "    }\n",
       "</style>\n",
       "<table border=\"1\" class=\"dataframe\">\n",
       "  <thead>\n",
       "    <tr style=\"text-align: right;\">\n",
       "      <th></th>\n",
       "      <th>id</th>\n",
       "      <th>ano</th>\n",
       "      <th>mes</th>\n",
       "      <th>preco</th>\n",
       "      <th>area</th>\n",
       "      <th>quartos</th>\n",
       "      <th>banheiros</th>\n",
       "      <th>vagas</th>\n",
       "    </tr>\n",
       "  </thead>\n",
       "  <tbody>\n",
       "    <tr>\n",
       "      <th>count</th>\n",
       "      <td>944.000000</td>\n",
       "      <td>944.000000</td>\n",
       "      <td>944.000000</td>\n",
       "      <td>944.000000</td>\n",
       "      <td>944.000000</td>\n",
       "      <td>944.000000</td>\n",
       "      <td>944.000000</td>\n",
       "      <td>944.000000</td>\n",
       "    </tr>\n",
       "    <tr>\n",
       "      <th>mean</th>\n",
       "      <td>479.463983</td>\n",
       "      <td>2021.000000</td>\n",
       "      <td>5.965042</td>\n",
       "      <td>176504.227754</td>\n",
       "      <td>61.693856</td>\n",
       "      <td>2.058263</td>\n",
       "      <td>1.026483</td>\n",
       "      <td>0.327331</td>\n",
       "    </tr>\n",
       "    <tr>\n",
       "      <th>std</th>\n",
       "      <td>277.484448</td>\n",
       "      <td>0.855399</td>\n",
       "      <td>4.543398</td>\n",
       "      <td>50656.696875</td>\n",
       "      <td>10.405588</td>\n",
       "      <td>0.243245</td>\n",
       "      <td>0.958491</td>\n",
       "      <td>0.631327</td>\n",
       "    </tr>\n",
       "    <tr>\n",
       "      <th>min</th>\n",
       "      <td>0.000000</td>\n",
       "      <td>2019.000000</td>\n",
       "      <td>1.000000</td>\n",
       "      <td>55000.000000</td>\n",
       "      <td>41.000000</td>\n",
       "      <td>1.000000</td>\n",
       "      <td>0.000000</td>\n",
       "      <td>0.000000</td>\n",
       "    </tr>\n",
       "    <tr>\n",
       "      <th>25%</th>\n",
       "      <td>238.750000</td>\n",
       "      <td>2020.000000</td>\n",
       "      <td>1.000000</td>\n",
       "      <td>140000.000000</td>\n",
       "      <td>52.000000</td>\n",
       "      <td>2.000000</td>\n",
       "      <td>0.000000</td>\n",
       "      <td>0.000000</td>\n",
       "    </tr>\n",
       "    <tr>\n",
       "      <th>50%</th>\n",
       "      <td>475.500000</td>\n",
       "      <td>2021.000000</td>\n",
       "      <td>6.000000</td>\n",
       "      <td>179511.000000</td>\n",
       "      <td>64.000000</td>\n",
       "      <td>2.000000</td>\n",
       "      <td>1.000000</td>\n",
       "      <td>0.000000</td>\n",
       "    </tr>\n",
       "    <tr>\n",
       "      <th>75%</th>\n",
       "      <td>720.250000</td>\n",
       "      <td>2022.000000</td>\n",
       "      <td>11.000000</td>\n",
       "      <td>185000.000000</td>\n",
       "      <td>67.000000</td>\n",
       "      <td>2.000000</td>\n",
       "      <td>2.000000</td>\n",
       "      <td>1.000000</td>\n",
       "    </tr>\n",
       "    <tr>\n",
       "      <th>max</th>\n",
       "      <td>958.000000</td>\n",
       "      <td>2022.000000</td>\n",
       "      <td>12.000000</td>\n",
       "      <td>405990.000000</td>\n",
       "      <td>95.000000</td>\n",
       "      <td>3.000000</td>\n",
       "      <td>4.000000</td>\n",
       "      <td>4.000000</td>\n",
       "    </tr>\n",
       "  </tbody>\n",
       "</table>\n",
       "</div>"
      ],
      "text/plain": [
       "               id          ano         mes          preco        area  \\\n",
       "count  944.000000   944.000000  944.000000     944.000000  944.000000   \n",
       "mean   479.463983  2021.000000    5.965042  176504.227754   61.693856   \n",
       "std    277.484448     0.855399    4.543398   50656.696875   10.405588   \n",
       "min      0.000000  2019.000000    1.000000   55000.000000   41.000000   \n",
       "25%    238.750000  2020.000000    1.000000  140000.000000   52.000000   \n",
       "50%    475.500000  2021.000000    6.000000  179511.000000   64.000000   \n",
       "75%    720.250000  2022.000000   11.000000  185000.000000   67.000000   \n",
       "max    958.000000  2022.000000   12.000000  405990.000000   95.000000   \n",
       "\n",
       "          quartos   banheiros       vagas  \n",
       "count  944.000000  944.000000  944.000000  \n",
       "mean     2.058263    1.026483    0.327331  \n",
       "std      0.243245    0.958491    0.631327  \n",
       "min      1.000000    0.000000    0.000000  \n",
       "25%      2.000000    0.000000    0.000000  \n",
       "50%      2.000000    1.000000    0.000000  \n",
       "75%      2.000000    2.000000    1.000000  \n",
       "max      3.000000    4.000000    4.000000  "
      ]
     },
     "execution_count": 86,
     "metadata": {},
     "output_type": "execute_result"
    }
   ],
   "source": [
    "houses.describe()"
   ]
  },
  {
   "cell_type": "code",
   "execution_count": 87,
   "id": "f3d7bf74",
   "metadata": {},
   "outputs": [
    {
     "data": {
      "image/png": "[encoded data removed]",
      "text/plain": [
       "<Figure size 1440x1080 with 9 Axes>"
      ]
     },
     "metadata": {
      "needs_background": "light"
     },
     "output_type": "display_data"
    }
   ],
   "source": [
    "%matplotlib inline\n",
    "import matplotlib.pyplot as plt\n",
    "houses.hist(bins=50, figsize=(20,15))\n",
    "plt.show()"
   ]
  },
  {
   "cell_type": "code",
   "execution_count": 88,
   "id": "c7123f55",
   "metadata": {},
   "outputs": [
    {
     "data": {
      "text/plain": [
       "array([[<AxesSubplot:xlabel='preco', ylabel='preco'>,\n",
       "        <AxesSubplot:xlabel='area', ylabel='preco'>],\n",
       "       [<AxesSubplot:xlabel='preco', ylabel='area'>,\n",
       "        <AxesSubplot:xlabel='area', ylabel='area'>]], dtype=object)"
      ]
     },
     "execution_count": 88,
     "metadata": {},
     "output_type": "execute_result"
    },
    {
     "data": {
      "image/png": "[encoded data removed]",
      "text/plain": [
       "<Figure size 864x576 with 4 Axes>"
      ]
     },
     "metadata": {
      "needs_background": "light"
     },
     "output_type": "display_data"
    }
   ],
   "source": [
    "from pandas.plotting import scatter_matrix\n",
    "\n",
    "attributes = [\"preco\", \"area\"]\n",
    "scatter_matrix(houses[attributes],figsize=(12,8))"
   ]
  },
  {
   "cell_type": "code",
   "execution_count": 89,
   "id": "2991d96a",
   "metadata": {},
   "outputs": [
    {
     "data": {
      "text/plain": [
       "<AxesSubplot:xlabel='area', ylabel='preco'>"
      ]
     },
     "execution_count": 89,
     "metadata": {},
     "output_type": "execute_result"
    },
    {
     "data": {
      "image/png": "[encoded data removed]",
      "text/plain": [
       "<Figure size 432x288 with 1 Axes>"
      ]
     },
     "metadata": {
      "needs_background": "light"
     },
     "output_type": "display_data"
    }
   ],
   "source": [
    "houses.plot(kind=\"scatter\", x=\"area\", y=\"preco\", alpha=0.1)"
   ]
  },
  {
   "cell_type": "markdown",
   "id": "71db2b1d",
   "metadata": {},
   "source": [
    "# Prepare the data for machine learning"
   ]
  },
  {
   "cell_type": "code",
   "execution_count": 90,
   "id": "c5c6d315",
   "metadata": {},
   "outputs": [],
   "source": [
    "from sklearn.preprocessing import OrdinalEncoder\n",
    "ordinal_encoder = OrdinalEncoder()"
   ]
  },
  {
   "cell_type": "code",
   "execution_count": 91,
   "id": "d8206017",
   "metadata": {},
   "outputs": [],
   "source": [
    "houses.categoria = ordinal_encoder.fit_transform(houses[[\"categoria\"]])\n",
    "houses.municipio = ordinal_encoder.fit_transform(houses[[\"municipio\"]])\n",
    "houses.condofechado = ordinal_encoder.fit_transform(houses[[\"condofechado\"]])\n",
    "houses.politica = ordinal_encoder.fit_transform(houses[[\"politica\"]])"
   ]
  },
  {
   "cell_type": "code",
   "execution_count": 92,
   "id": "1d8de5a5",
   "metadata": {},
   "outputs": [
    {
     "data": {
      "text/plain": [
       "[array(['cva', 'mcmv'], dtype=object)]"
      ]
     },
     "execution_count": 92,
     "metadata": {},
     "output_type": "execute_result"
    }
   ],
   "source": [
    "ordinal_encoder.categories_"
   ]
  },
  {
   "cell_type": "code",
   "execution_count": 93,
   "id": "c6bd7d97",
   "metadata": {},
   "outputs": [
    {
     "name": "stdout",
     "output_type": "stream",
     "text": [
      "<class 'pandas.core.frame.DataFrame'>\n",
      "Int64Index: 944 entries, 0 to 958\n",
      "Data columns (total 12 columns):\n",
      " #   Column        Non-Null Count  Dtype  \n",
      "---  ------        --------------  -----  \n",
      " 0   id            944 non-null    int64  \n",
      " 1   categoria     944 non-null    float64\n",
      " 2   municipio     944 non-null    float64\n",
      " 3   ano           944 non-null    int64  \n",
      " 4   mes           944 non-null    int64  \n",
      " 5   preco         944 non-null    int64  \n",
      " 6   area          944 non-null    int64  \n",
      " 7   quartos       944 non-null    int64  \n",
      " 8   banheiros     944 non-null    int64  \n",
      " 9   vagas         944 non-null    int64  \n",
      " 10  condofechado  944 non-null    float64\n",
      " 11  politica      944 non-null    float64\n",
      "dtypes: float64(4), int64(8)\n",
      "memory usage: 95.9 KB\n"
     ]
    }
   ],
   "source": [
    "houses.info()"
   ]
  },
  {
   "cell_type": "code",
   "execution_count": 94,
   "id": "58d4dbbb",
   "metadata": {},
   "outputs": [
    {
     "data": {
      "text/html": [
       "<div>\n",
       "<style scoped>\n",
       "    .dataframe tbody tr th:only-of-type {\n",
       "        vertical-align: middle;\n",
       "    }\n",
       "\n",
       "    .dataframe tbody tr th {\n",
       "        vertical-align: top;\n",
       "    }\n",
       "\n",
       "    .dataframe thead th {\n",
       "        text-align: right;\n",
       "    }\n",
       "</style>\n",
       "<table border=\"1\" class=\"dataframe\">\n",
       "  <thead>\n",
       "    <tr style=\"text-align: right;\">\n",
       "      <th></th>\n",
       "      <th>id</th>\n",
       "      <th>categoria</th>\n",
       "      <th>municipio</th>\n",
       "      <th>ano</th>\n",
       "      <th>mes</th>\n",
       "      <th>preco</th>\n",
       "      <th>area</th>\n",
       "      <th>quartos</th>\n",
       "      <th>banheiros</th>\n",
       "      <th>vagas</th>\n",
       "      <th>condofechado</th>\n",
       "      <th>politica</th>\n",
       "    </tr>\n",
       "  </thead>\n",
       "  <tbody>\n",
       "    <tr>\n",
       "      <th>0</th>\n",
       "      <td>0</td>\n",
       "      <td>1.0</td>\n",
       "      <td>9.0</td>\n",
       "      <td>2021</td>\n",
       "      <td>12</td>\n",
       "      <td>107988</td>\n",
       "      <td>59</td>\n",
       "      <td>2</td>\n",
       "      <td>1</td>\n",
       "      <td>0</td>\n",
       "      <td>1.0</td>\n",
       "      <td>0.0</td>\n",
       "    </tr>\n",
       "    <tr>\n",
       "      <th>1</th>\n",
       "      <td>1</td>\n",
       "      <td>0.0</td>\n",
       "      <td>9.0</td>\n",
       "      <td>2022</td>\n",
       "      <td>1</td>\n",
       "      <td>107888</td>\n",
       "      <td>60</td>\n",
       "      <td>2</td>\n",
       "      <td>1</td>\n",
       "      <td>0</td>\n",
       "      <td>1.0</td>\n",
       "      <td>0.0</td>\n",
       "    </tr>\n",
       "    <tr>\n",
       "      <th>2</th>\n",
       "      <td>2</td>\n",
       "      <td>1.0</td>\n",
       "      <td>9.0</td>\n",
       "      <td>2022</td>\n",
       "      <td>1</td>\n",
       "      <td>107888</td>\n",
       "      <td>60</td>\n",
       "      <td>2</td>\n",
       "      <td>1</td>\n",
       "      <td>0</td>\n",
       "      <td>1.0</td>\n",
       "      <td>0.0</td>\n",
       "    </tr>\n",
       "    <tr>\n",
       "      <th>3</th>\n",
       "      <td>3</td>\n",
       "      <td>1.0</td>\n",
       "      <td>9.0</td>\n",
       "      <td>2022</td>\n",
       "      <td>1</td>\n",
       "      <td>107800</td>\n",
       "      <td>59</td>\n",
       "      <td>2</td>\n",
       "      <td>1</td>\n",
       "      <td>0</td>\n",
       "      <td>1.0</td>\n",
       "      <td>0.0</td>\n",
       "    </tr>\n",
       "    <tr>\n",
       "      <th>4</th>\n",
       "      <td>4</td>\n",
       "      <td>1.0</td>\n",
       "      <td>9.0</td>\n",
       "      <td>2022</td>\n",
       "      <td>1</td>\n",
       "      <td>107556</td>\n",
       "      <td>66</td>\n",
       "      <td>2</td>\n",
       "      <td>1</td>\n",
       "      <td>0</td>\n",
       "      <td>1.0</td>\n",
       "      <td>0.0</td>\n",
       "    </tr>\n",
       "    <tr>\n",
       "      <th>5</th>\n",
       "      <td>5</td>\n",
       "      <td>0.0</td>\n",
       "      <td>6.0</td>\n",
       "      <td>2021</td>\n",
       "      <td>12</td>\n",
       "      <td>107555</td>\n",
       "      <td>52</td>\n",
       "      <td>2</td>\n",
       "      <td>1</td>\n",
       "      <td>0</td>\n",
       "      <td>1.0</td>\n",
       "      <td>0.0</td>\n",
       "    </tr>\n",
       "    <tr>\n",
       "      <th>6</th>\n",
       "      <td>6</td>\n",
       "      <td>1.0</td>\n",
       "      <td>3.0</td>\n",
       "      <td>2022</td>\n",
       "      <td>1</td>\n",
       "      <td>105222</td>\n",
       "      <td>77</td>\n",
       "      <td>2</td>\n",
       "      <td>1</td>\n",
       "      <td>0</td>\n",
       "      <td>0.0</td>\n",
       "      <td>0.0</td>\n",
       "    </tr>\n",
       "    <tr>\n",
       "      <th>7</th>\n",
       "      <td>7</td>\n",
       "      <td>1.0</td>\n",
       "      <td>6.0</td>\n",
       "      <td>2020</td>\n",
       "      <td>5</td>\n",
       "      <td>105000</td>\n",
       "      <td>70</td>\n",
       "      <td>2</td>\n",
       "      <td>2</td>\n",
       "      <td>1</td>\n",
       "      <td>0.0</td>\n",
       "      <td>0.0</td>\n",
       "    </tr>\n",
       "    <tr>\n",
       "      <th>8</th>\n",
       "      <td>8</td>\n",
       "      <td>1.0</td>\n",
       "      <td>9.0</td>\n",
       "      <td>2020</td>\n",
       "      <td>5</td>\n",
       "      <td>105000</td>\n",
       "      <td>58</td>\n",
       "      <td>2</td>\n",
       "      <td>2</td>\n",
       "      <td>1</td>\n",
       "      <td>0.0</td>\n",
       "      <td>0.0</td>\n",
       "    </tr>\n",
       "    <tr>\n",
       "      <th>9</th>\n",
       "      <td>9</td>\n",
       "      <td>1.0</td>\n",
       "      <td>3.0</td>\n",
       "      <td>2022</td>\n",
       "      <td>1</td>\n",
       "      <td>105000</td>\n",
       "      <td>77</td>\n",
       "      <td>2</td>\n",
       "      <td>1</td>\n",
       "      <td>0</td>\n",
       "      <td>0.0</td>\n",
       "      <td>0.0</td>\n",
       "    </tr>\n",
       "  </tbody>\n",
       "</table>\n",
       "</div>"
      ],
      "text/plain": [
       "   id  categoria  municipio   ano  mes   preco  area  quartos  banheiros  \\\n",
       "0   0        1.0        9.0  2021   12  107988    59        2          1   \n",
       "1   1        0.0        9.0  2022    1  107888    60        2          1   \n",
       "2   2        1.0        9.0  2022    1  107888    60        2          1   \n",
       "3   3        1.0        9.0  2022    1  107800    59        2          1   \n",
       "4   4        1.0        9.0  2022    1  107556    66        2          1   \n",
       "5   5        0.0        6.0  2021   12  107555    52        2          1   \n",
       "6   6        1.0        3.0  2022    1  105222    77        2          1   \n",
       "7   7        1.0        6.0  2020    5  105000    70        2          2   \n",
       "8   8        1.0        9.0  2020    5  105000    58        2          2   \n",
       "9   9        1.0        3.0  2022    1  105000    77        2          1   \n",
       "\n",
       "   vagas  condofechado  politica  \n",
       "0      0           1.0       0.0  \n",
       "1      0           1.0       0.0  \n",
       "2      0           1.0       0.0  \n",
       "3      0           1.0       0.0  \n",
       "4      0           1.0       0.0  \n",
       "5      0           1.0       0.0  \n",
       "6      0           0.0       0.0  \n",
       "7      1           0.0       0.0  \n",
       "8      1           0.0       0.0  \n",
       "9      0           0.0       0.0  "
      ]
     },
     "execution_count": 94,
     "metadata": {},
     "output_type": "execute_result"
    }
   ],
   "source": [
    "houses.head(10)"
   ]
  },
  {
   "cell_type": "code",
   "execution_count": 95,
   "id": "0de1ed3a",
   "metadata": {},
   "outputs": [
    {
     "data": {
      "text/plain": [
       "preco           1.000000\n",
       "area            0.381951\n",
       "categoria       0.284293\n",
       "quartos         0.241487\n",
       "municipio       0.189375\n",
       "politica        0.125370\n",
       "mes             0.026959\n",
       "banheiros       0.025115\n",
       "ano            -0.231730\n",
       "condofechado   -0.235555\n",
       "id             -0.238791\n",
       "vagas          -0.311800\n",
       "Name: preco, dtype: float64"
      ]
     },
     "execution_count": 95,
     "metadata": {},
     "output_type": "execute_result"
    }
   ],
   "source": [
    "corr_matrix = houses.corr()\n",
    "corr_matrix[\"preco\"].sort_values(ascending=False)"
   ]
  },
  {
   "cell_type": "code",
   "execution_count": 96,
   "id": "bdef7735",
   "metadata": {},
   "outputs": [
    {
     "data": {
      "text/plain": [
       "<AxesSubplot:>"
      ]
     },
     "execution_count": 96,
     "metadata": {},
     "output_type": "execute_result"
    },
    {
     "data": {
      "image/png": "[encoded data removed]",
      "text/plain": [
       "<Figure size 1440x1440 with 2 Axes>"
      ]
     },
     "metadata": {
      "needs_background": "light"
     },
     "output_type": "display_data"
    }
   ],
   "source": [
    "import seaborn as sns\n",
    "\n",
    "plt.figure(figsize=(20, 20))\n",
    "sns.heatmap(houses.corr())"
   ]
  },
  {
   "cell_type": "code",
   "execution_count": 97,
   "id": "525dd442",
   "metadata": {},
   "outputs": [
    {
     "name": "stdout",
     "output_type": "stream",
     "text": [
      "<class 'pandas.core.frame.DataFrame'>\n",
      "Int64Index: 944 entries, 0 to 958\n",
      "Data columns (total 12 columns):\n",
      " #   Column        Non-Null Count  Dtype  \n",
      "---  ------        --------------  -----  \n",
      " 0   id            944 non-null    int64  \n",
      " 1   categoria     944 non-null    float64\n",
      " 2   municipio     944 non-null    float64\n",
      " 3   ano           944 non-null    int64  \n",
      " 4   mes           944 non-null    int64  \n",
      " 5   preco         944 non-null    int64  \n",
      " 6   area          944 non-null    int64  \n",
      " 7   quartos       944 non-null    int64  \n",
      " 8   banheiros     944 non-null    int64  \n",
      " 9   vagas         944 non-null    int64  \n",
      " 10  condofechado  944 non-null    float64\n",
      " 11  politica      944 non-null    float64\n",
      "dtypes: float64(4), int64(8)\n",
      "memory usage: 95.9 KB\n"
     ]
    }
   ],
   "source": [
    "houses.info()"
   ]
  },
  {
   "cell_type": "markdown",
   "id": "797f52cc",
   "metadata": {},
   "source": [
    "# Machine Learning"
   ]
  },
  {
   "cell_type": "code",
   "execution_count": 98,
   "id": "560c8c0a",
   "metadata": {},
   "outputs": [],
   "source": [
    "from sklearn.model_selection import train_test_split\n",
    "\n",
    "train_set, test_set = train_test_split(houses, test_size=.5, random_state=42)"
   ]
  },
  {
   "cell_type": "code",
   "execution_count": 99,
   "id": "2fe94891",
   "metadata": {},
   "outputs": [],
   "source": [
    "houses = train_set.drop(\"preco\", axis=1)\n",
    "houses_labels = train_set[\"preco\"].copy()"
   ]
  },
  {
   "cell_type": "markdown",
   "id": "7e454465",
   "metadata": {},
   "source": [
    "## Linear Regression"
   ]
  },
  {
   "cell_type": "code",
   "execution_count": 100,
   "id": "2f1138ea",
   "metadata": {},
   "outputs": [],
   "source": [
    "%%script false --no-raise-error\n",
    "# Train a Linear Regression model\n",
    "from sklearn.linear_model import LinearRegression\n",
    "\n",
    "lin_reg = LinearRegression()\n",
    "lin_reg.fit(houses, houses_labels)"
   ]
  },
  {
   "cell_type": "code",
   "execution_count": 101,
   "id": "3ce06afc",
   "metadata": {},
   "outputs": [],
   "source": [
    "%%script false --no-raise-error\n",
    "# Compare all the houses prediction results and the median error\n",
    "from sklearn.metrics import mean_squared_error\n",
    "\n",
    "def print_raw(lab, pre):\n",
    "    lin_mse = mean_squared_error(lab, pre)\n",
    "    print(\"Median error:\", np.sqrt(lin_mse))\n",
    "    \n",
    "    for i in range(0, 472):\n",
    "        print(\n",
    "            \"[\",i,\"]\\tLab:\", lab.iloc[i],\n",
    "            \"\\tPre: %.f\" % pre[i],\n",
    "            \"\\tErr: %.f\" % (pre[i] - lab.iloc[i])\n",
    "        )\n",
    "        \n",
    "print_raw(houses_labels, lin_reg.predict(houses))"
   ]
  },
  {
   "cell_type": "markdown",
   "id": "890963bf",
   "metadata": {},
   "source": [
    "## Decision Tree"
   ]
  },
  {
   "cell_type": "code",
   "execution_count": 102,
   "id": "6ef00076",
   "metadata": {},
   "outputs": [],
   "source": [
    "%%script false --no-raise-error\n",
    "# Train a Decision Tree Regression model\n",
    "from sklearn.tree import DecisionTreeRegressor\n",
    "\n",
    "tree_reg = DecisionTreeRegressor()\n",
    "tree_reg.fit(houses, houses_labels)"
   ]
  },
  {
   "cell_type": "code",
   "execution_count": 103,
   "id": "26d4f6e0",
   "metadata": {},
   "outputs": [],
   "source": [
    "from sklearn.model_selection import cross_val_score"
   ]
  },
  {
   "cell_type": "code",
   "execution_count": 104,
   "id": "35336513",
   "metadata": {},
   "outputs": [],
   "source": [
    "%%script false --no-raise-error\n",
    "scores = cross_val_score(tree_reg, houses, houses_labels,\n",
    "                        scoring=\"neg_mean_squared_error\", cv=2)\n",
    "tree_rmse_scores = np.sqrt(-scores)"
   ]
  },
  {
   "cell_type": "code",
   "execution_count": 105,
   "id": "4c71ecc7",
   "metadata": {},
   "outputs": [],
   "source": [
    "def display_scores(scores):\n",
    "    print(\"Scores:\", scores)\n",
    "    print(\"Mean:\", scores.mean())\n",
    "    print(\"Standard deviation:\", scores.std())"
   ]
  },
  {
   "cell_type": "code",
   "execution_count": 106,
   "id": "fb8ec6f5",
   "metadata": {},
   "outputs": [],
   "source": [
    "%%script false --no-raise-error\n",
    "display_scores(tree_rmse_scores)"
   ]
  },
  {
   "cell_type": "markdown",
   "id": "15a79cf5",
   "metadata": {},
   "source": [
    "## Random Forests"
   ]
  },
  {
   "cell_type": "code",
   "execution_count": 107,
   "id": "bce42973",
   "metadata": {},
   "outputs": [
    {
     "data": {
      "text/plain": [
       "RandomForestRegressor()"
      ]
     },
     "execution_count": 107,
     "metadata": {},
     "output_type": "execute_result"
    }
   ],
   "source": [
    "# Train a Random Forests Regression model\n",
    "from sklearn.ensemble import RandomForestRegressor\n",
    "\n",
    "forest_reg = RandomForestRegressor()\n",
    "forest_reg.fit(houses, houses_labels)"
   ]
  },
  {
   "cell_type": "code",
   "execution_count": 132,
   "id": "320474c5",
   "metadata": {},
   "outputs": [],
   "source": [
    "scores = cross_val_score(forest_reg, houses, houses_labels,\n",
    "                        scoring=\"neg_mean_squared_error\", cv=2)\n",
    "forest_rmse_scores = np.sqrt(-scores)"
   ]
  },
  {
   "cell_type": "code",
   "execution_count": 133,
   "id": "ead3ea89",
   "metadata": {},
   "outputs": [
    {
     "name": "stdout",
     "output_type": "stream",
     "text": [
      "Scores: [17949.32747962 13421.27337346]\n",
      "Mean: 15685.300426538479\n",
      "Standard deviation: 2264.0270530769867\n"
     ]
    }
   ],
   "source": [
    "display_scores(forest_rmse_scores)"
   ]
  },
  {
   "cell_type": "code",
   "execution_count": 110,
   "id": "be782f0c",
   "metadata": {},
   "outputs": [
    {
     "data": {
      "text/plain": [
       "['random_forest.pkl']"
      ]
     },
     "execution_count": 110,
     "metadata": {},
     "output_type": "execute_result"
    }
   ],
   "source": [
    "# Saving the model for future use and comparison\n",
    "import joblib\n",
    "\n",
    "joblib.dump(scores, \"random_forest.pkl\")"
   ]
  },
  {
   "cell_type": "markdown",
   "id": "4c3bcc3f",
   "metadata": {},
   "source": [
    "## Gradient Boosting"
   ]
  },
  {
   "cell_type": "code",
   "execution_count": 118,
   "id": "91776d2c",
   "metadata": {},
   "outputs": [
    {
     "data": {
      "text/plain": [
       "GradientBoostingRegressor(learning_rate=1.0, max_depth=2, n_estimators=3)"
      ]
     },
     "execution_count": 118,
     "metadata": {},
     "output_type": "execute_result"
    }
   ],
   "source": [
    "# Train a Random Forests Regression model\n",
    "from sklearn.ensemble import GradientBoostingRegressor\n",
    "\n",
    "gbrt = GradientBoostingRegressor(max_depth=2, n_estimators=3, learning_rate=1.0)\n",
    "gbrt.fit(houses, houses_labels)"
   ]
  },
  {
   "cell_type": "code",
   "execution_count": 140,
   "id": "5e44395d",
   "metadata": {},
   "outputs": [],
   "source": [
    "scores = cross_val_score(gbrt, houses, houses_labels,\n",
    "                        scoring=\"neg_mean_squared_error\", cv=2)\n",
    "gbrt_rmse_scores = np.sqrt(-scores)"
   ]
  },
  {
   "cell_type": "code",
   "execution_count": 141,
   "id": "f508643d",
   "metadata": {},
   "outputs": [
    {
     "name": "stdout",
     "output_type": "stream",
     "text": [
      "Scores: [22695.18553981 22129.97534037]\n",
      "Mean: 22412.580440090434\n",
      "Standard deviation: 282.60509972120417\n"
     ]
    }
   ],
   "source": [
    "display_scores(gbrt_rmse_scores)"
   ]
  },
  {
   "cell_type": "markdown",
   "id": "6fe19c0c",
   "metadata": {},
   "source": [
    "### Testing"
   ]
  },
  {
   "cell_type": "code",
   "execution_count": 144,
   "id": "79fc3aef",
   "metadata": {},
   "outputs": [],
   "source": [
    "X_test = test_set.drop(\"preco\", axis=1)\n",
    "y_test = test_set[\"preco\"].copy()\n",
    "test_predictors = gbrt.predict(X_test)"
   ]
  },
  {
   "cell_type": "code",
   "execution_count": 146,
   "id": "aeb5c9fc",
   "metadata": {},
   "outputs": [],
   "source": [
    "#gbrt_mse = mean_squared_error(y_test, final_predictions)\n",
    "#gbrt_rmse_test = np.sqrt(gbrt_mse)\n",
    "\n",
    "scores = cross_val_score(gbrt, X_test, y_test,\n",
    "                        scoring=\"neg_mean_squared_error\", cv=2)\n",
    "gbrt_rmse_scores = np.sqrt(-scores)"
   ]
  },
  {
   "cell_type": "code",
   "execution_count": 147,
   "id": "7adcf925",
   "metadata": {},
   "outputs": [
    {
     "name": "stdout",
     "output_type": "stream",
     "text": [
      "Scores: [28526.62722681 34393.78294165]\n",
      "Mean: 31460.20508423246\n",
      "Standard deviation: 2933.577857417935\n"
     ]
    }
   ],
   "source": [
    "display_scores(gbrt_rmse_scores)"
   ]
  },
  {
   "cell_type": "markdown",
   "id": "f55e0c64",
   "metadata": {},
   "source": [
    "## Suport Vector Machines"
   ]
  },
  {
   "cell_type": "code",
   "execution_count": 114,
   "id": "fd963c91",
   "metadata": {},
   "outputs": [
    {
     "data": {
      "text/plain": [
       "Pipeline(steps=[('scaler', StandardScaler()),\n",
       "                ('linear_svc',\n",
       "                 LinearSVC(C=1, loss='hinge', max_iter=100000,\n",
       "                           random_state=0))])"
      ]
     },
     "execution_count": 114,
     "metadata": {},
     "output_type": "execute_result"
    }
   ],
   "source": [
    "from sklearn.svm import LinearSVC\n",
    "from sklearn.pipeline import Pipeline\n",
    "from sklearn.preprocessing import StandardScaler\n",
    "\n",
    "svm_clf = Pipeline([\n",
    "    (\"scaler\", StandardScaler()),\n",
    "    (\"linear_svc\", LinearSVC(C=1, loss=\"hinge\", random_state = 0, max_iter=100000)),\n",
    "])\n",
    "\n",
    "svm_clf.fit(houses, houses_labels)"
   ]
  },
  {
   "cell_type": "code",
   "execution_count": 115,
   "id": "3d39042c",
   "metadata": {},
   "outputs": [
    {
     "name": "stderr",
     "output_type": "stream",
     "text": [
      "/home/tales/.local/lib/python3.10/site-packages/sklearn/model_selection/_split.py:676: UserWarning: The least populated class in y has only 1 members, which is less than n_splits=2.\n",
      "  warnings.warn(\n"
     ]
    }
   ],
   "source": [
    "scores = cross_val_score(svm_clf, houses, houses_labels,\n",
    "                        scoring=\"neg_mean_squared_error\", cv=2)\n",
    "svm_rmse_scores = np.sqrt(-scores)"
   ]
  },
  {
   "cell_type": "code",
   "execution_count": 116,
   "id": "aba1c6ab",
   "metadata": {},
   "outputs": [
    {
     "name": "stdout",
     "output_type": "stream",
     "text": [
      "Scores: [48035.49781707 42196.00779183]\n",
      "Mean: 45115.75280444858\n",
      "Standard deviation: 2919.7450126231015\n"
     ]
    }
   ],
   "source": [
    "display_scores(svm_rmse_scores)"
   ]
  }
 ],
 "metadata": {
  "kernelspec": {
   "display_name": "Python 3 (ipykernel)",
   "language": "python",
   "name": "python3"
  },
  "language_info": {
   "codemirror_mode": {
    "name": "ipython",
    "version": 3
   },
   "file_extension": ".py",
   "mimetype": "text/x-python",
   "name": "python",
   "nbconvert_exporter": "python",
   "pygments_lexer": "ipython3",
   "version": "3.10.4"
  }
 },
 "nbformat": 4,
 "nbformat_minor": 5
}
